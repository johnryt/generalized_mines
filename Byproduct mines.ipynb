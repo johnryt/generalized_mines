{
 "cells": [
  {
   "cell_type": "markdown",
   "id": "cfbc8c51",
   "metadata": {
    "toc": true
   },
   "source": [
    "<h1>Table of Contents<span class=\"tocSkip\"></span></h1>\n",
    "<div class=\"toc\"><ul class=\"toc-item\"></ul></div>"
   ]
  },
  {
   "cell_type": "markdown",
   "id": "f9e58a50",
   "metadata": {},
   "source": [
    "Run each cell, then manipulate the widgets below"
   ]
  },
  {
   "cell_type": "code",
   "execution_count": 1,
   "id": "7b2a1f8b",
   "metadata": {
    "ExecuteTime": {
     "end_time": "2022-02-18T14:09:56.870654Z",
     "start_time": "2022-02-18T14:09:44.301876Z"
    }
   },
   "outputs": [],
   "source": [
    "import numpy as np\n",
    "import pandas as pd\n",
    "from scipy import stats\n",
    "idx = pd.IndexSlice\n",
    "import matplotlib.pyplot as plt\n",
    "import seaborn as sns\n",
    "\n",
    "from generalized_mines import *\n",
    "from other_functions import *\n",
    "from widget_creation import *"
   ]
  },
  {
   "cell_type": "code",
   "execution_count": 2,
   "id": "2c3ff8e2",
   "metadata": {
    "ExecuteTime": {
     "end_time": "2022-02-18T14:11:58.599457Z",
     "start_time": "2022-02-18T14:11:54.086137Z"
    },
    "scrolled": false
   },
   "outputs": [
    {
     "name": "stdout",
     "output_type": "stream",
     "text": [
      "Values to plot:\n"
     ]
    },
    {
     "data": {
      "application/vnd.jupyter.widget-view+json": {
       "model_id": "a5e6df05d0c54a52ace68cc010083cf2",
       "version_major": 2,
       "version_minor": 0
      },
      "text/plain": [
       "GridBox(children=(ToggleButton(value=False, description='Byproduct ID', layout=Layout(height='40px', width='au…"
      ]
     },
     "metadata": {},
     "output_type": "display_data"
    },
    {
     "data": {
      "application/vnd.jupyter.widget-view+json": {
       "model_id": "485e6299f11c488d8226c53ef78b6af5",
       "version_major": 2,
       "version_minor": 0
      },
      "text/plain": [
       "Tab(children=(GridBox(children=(Dropdown(description='Byproduct:', layout=Layout(height='40px', width='350px')…"
      ]
     },
     "metadata": {},
     "output_type": "display_data"
    },
    {
     "data": {
      "application/vnd.jupyter.widget-view+json": {
       "model_id": "1892274fc612482cbe0d4a68d180222d",
       "version_major": 2,
       "version_minor": 0
      },
      "text/plain": [
       "Output()"
      ]
     },
     "metadata": {},
     "output_type": "display_data"
    },
    {
     "data": {
      "application/vnd.jupyter.widget-view+json": {
       "model_id": "89bcad71a3004710a5d80e504ee345d3",
       "version_major": 2,
       "version_minor": 0
      },
      "text/plain": [
       "GridBox(children=(Button(description='Reset all values to default', layout=Layout(height='40px', width='auto')…"
      ]
     },
     "metadata": {},
     "output_type": "display_data"
    }
   ],
   "source": [
    "m = GeneralizedOperatingMines(byproduct=True)\n",
    "m.run()\n",
    "\n",
    "generate_widgets()"
   ]
  },
  {
   "cell_type": "markdown",
   "id": "8d5b202c",
   "metadata": {},
   "source": [
    "Label 0 represents mines where our \"byproduct\" element is mined as the primary commodity. Labels 1-3 represent byproduct mines from different host commodity mines.\n",
    "\n",
    "The \"Primary only\" tab is only useful if you change the Byproduct dropdown to False. For byproduct variables, see Byproduct main, Primary mines, and Host 1-3 tabs for variables. Variables with Host : byprod. indicate the ratio of host/byproduct for the given parameter. The \"Mine life sim.\" tab is not currently useful, but will be in the future. "
   ]
  },
  {
   "cell_type": "code",
   "execution_count": null,
   "id": "62957263",
   "metadata": {},
   "outputs": [],
   "source": []
  }
 ],
 "metadata": {
  "kernelspec": {
   "display_name": "Python 3",
   "language": "python",
   "name": "python3"
  },
  "toc": {
   "base_numbering": 1,
   "nav_menu": {},
   "number_sections": true,
   "sideBar": true,
   "skip_h1_title": false,
   "title_cell": "Table of Contents",
   "title_sidebar": "Contents",
   "toc_cell": true,
   "toc_position": {},
   "toc_section_display": true,
   "toc_window_display": false
  },
  "varInspector": {
   "cols": {
    "lenName": "30",
    "lenType": "10",
    "lenVar": "41"
   },
   "kernels_config": {
    "python": {
     "delete_cmd_postfix": "",
     "delete_cmd_prefix": "del ",
     "library": "var_list.py",
     "varRefreshCmd": "print(var_dic_list())"
    },
    "r": {
     "delete_cmd_postfix": ") ",
     "delete_cmd_prefix": "rm(",
     "library": "var_list.r",
     "varRefreshCmd": "cat(var_dic_list()) "
    }
   },
   "types_to_exclude": [
    "module",
    "function",
    "builtin_function_or_method",
    "instance",
    "_Feature"
   ],
   "window_display": false
  }
 },
 "nbformat": 4,
 "nbformat_minor": 5
}
