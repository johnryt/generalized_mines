{
 "cells": [
  {
   "cell_type": "markdown",
   "id": "5f21b764",
   "metadata": {
    "toc": true
   },
   "source": [
    "<h1>Table of Contents<span class=\"tocSkip\"></span></h1>\n",
    "<div class=\"toc\"><ul class=\"toc-item\"></ul></div>"
   ]
  },
  {
   "cell_type": "code",
   "execution_count": 1,
   "id": "7b2a1f8b",
   "metadata": {
    "ExecuteTime": {
     "end_time": "2022-02-18T01:52:18.643878Z",
     "start_time": "2022-02-18T01:52:13.371803Z"
    }
   },
   "outputs": [],
   "source": [
    "import numpy as np\n",
    "import pandas as pd\n",
    "from scipy import stats\n",
    "idx = pd.IndexSlice\n",
    "from os import getcwd,listdir\n",
    "import matplotlib.pyplot as plt\n",
    "from random import shuffle, sample, seed\n",
    "import seaborn as sns\n",
    "from random import seed, sample, shuffle\n",
    "from matplotlib.lines import Line2D\n",
    "import ipywidgets as wid\n",
    "import functools\n",
    "\n",
    "from generalized_mines import *\n",
    "from other_functions import *\n",
    "from widget_creation import *"
   ]
  },
  {
   "cell_type": "code",
   "execution_count": 2,
   "id": "2c3ff8e2",
   "metadata": {
    "ExecuteTime": {
     "end_time": "2022-02-18T01:52:24.685910Z",
     "start_time": "2022-02-18T01:52:20.265050Z"
    },
    "scrolled": false
   },
   "outputs": [
    {
     "name": "stdout",
     "output_type": "stream",
     "text": [
      "Values to plot:\n"
     ]
    },
    {
     "data": {
      "application/vnd.jupyter.widget-view+json": {
       "model_id": "efaa91aa9ef8473ebc2a811aeb6379fa",
       "version_major": 2,
       "version_minor": 0
      },
      "text/plain": [
       "GridBox(children=(ToggleButton(value=False, description='Byproduct ID', layout=Layout(height='40px', width='au…"
      ]
     },
     "metadata": {},
     "output_type": "display_data"
    },
    {
     "data": {
      "application/vnd.jupyter.widget-view+json": {
       "model_id": "808142d5331849ac8ab5951e026ea893",
       "version_major": 2,
       "version_minor": 0
      },
      "text/plain": [
       "Tab(children=(GridBox(children=(Dropdown(description='Byproduct:', layout=Layout(height='40px', width='350px')…"
      ]
     },
     "metadata": {},
     "output_type": "display_data"
    },
    {
     "data": {
      "application/vnd.jupyter.widget-view+json": {
       "model_id": "f947663730e346a7a28c6266fc5526a4",
       "version_major": 2,
       "version_minor": 0
      },
      "text/plain": [
       "Output()"
      ]
     },
     "metadata": {},
     "output_type": "display_data"
    },
    {
     "data": {
      "application/vnd.jupyter.widget-view+json": {
       "model_id": "4851e3bc0b3f4169918ecb1a2c489ec2",
       "version_major": 2,
       "version_minor": 0
      },
      "text/plain": [
       "GridBox(children=(Button(description='Reset all values to default', layout=Layout(height='40px', width='auto')…"
      ]
     },
     "metadata": {},
     "output_type": "display_data"
    }
   ],
   "source": [
    "m = GeneralizedOperatingMines(byproduct=True)\n",
    "m.run()\n",
    "\n",
    "generate_widgets()"
   ]
  },
  {
   "cell_type": "markdown",
   "id": "8d5b202c",
   "metadata": {},
   "source": [
    "Label 0 represents mines where our \"byproduct\" element is mined as the primary commodity. Labels 1-3 represent byproduct mines from different host commodity mines."
   ]
  }
 ],
 "metadata": {
  "kernelspec": {
   "display_name": "Python 3",
   "language": "python",
   "name": "python3"
  },
  "language_info": {
   "codemirror_mode": {
    "name": "ipython",
    "version": 3
   },
   "file_extension": ".py",
   "mimetype": "text/x-python",
   "name": "python",
   "nbconvert_exporter": "python",
   "pygments_lexer": "ipython3",
   "version": "3.8.10"
  },
  "toc": {
   "base_numbering": 1,
   "nav_menu": {},
   "number_sections": true,
   "sideBar": true,
   "skip_h1_title": false,
   "title_cell": "Table of Contents",
   "title_sidebar": "Contents",
   "toc_cell": true,
   "toc_position": {},
   "toc_section_display": true,
   "toc_window_display": false
  },
  "varInspector": {
   "cols": {
    "lenName": "30",
    "lenType": "10",
    "lenVar": "41"
   },
   "kernels_config": {
    "python": {
     "delete_cmd_postfix": "",
     "delete_cmd_prefix": "del ",
     "library": "var_list.py",
     "varRefreshCmd": "print(var_dic_list())"
    },
    "r": {
     "delete_cmd_postfix": ") ",
     "delete_cmd_prefix": "rm(",
     "library": "var_list.r",
     "varRefreshCmd": "cat(var_dic_list()) "
    }
   },
   "types_to_exclude": [
    "module",
    "function",
    "builtin_function_or_method",
    "instance",
    "_Feature"
   ],
   "window_display": false
  }
 },
 "nbformat": 4,
 "nbformat_minor": 5
}
